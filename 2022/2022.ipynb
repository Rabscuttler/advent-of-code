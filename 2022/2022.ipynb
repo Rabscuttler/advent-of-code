{
 "cells": [
  {
   "cell_type": "code",
   "execution_count": 1,
   "metadata": {},
   "outputs": [],
   "source": [
    "import numpy as np\n",
    "import pandas as pd"
   ]
  },
  {
   "cell_type": "code",
   "execution_count": 5,
   "metadata": {},
   "outputs": [],
   "source": [
    "# utilities\n",
    "\n",
    "def get_data(day):\n",
    "    # e.g. get_data(d1)\n",
    "    with open(f'data/{day}.txt') as f:\n",
    "        lines = f.read().splitlines()\n",
    "    return lines"
   ]
  },
  {
   "cell_type": "markdown",
   "metadata": {},
   "source": [
    "## D1\n",
    "Input data are lines representing calories of food items, carried by each elf.  \n",
    "Next elf is demarcated by a blank line.  \n"
   ]
  },
  {
   "cell_type": "code",
   "execution_count": 4,
   "metadata": {},
   "outputs": [],
   "source": [
    "lines = get_data('d1')"
   ]
  },
  {
   "cell_type": "code",
   "execution_count": 6,
   "metadata": {},
   "outputs": [
    {
     "name": "stdout",
     "output_type": "stream",
     "text": [
      "68802\n"
     ]
    }
   ],
   "source": [
    "# Part 1: Find the elf with the highest total of calories\n",
    "max_elf_calories = 0\n",
    "calorie_count = 0 \n",
    "\n",
    "for line in lines:\n",
    "    if line:\n",
    "        calorie_count += int(line)\n",
    "    else:\n",
    "        max_elf_calories = max(max_elf_calories, calorie_count)\n",
    "        calorie_count = 0\n",
    "print(max_elf_calories)\n",
    "    "
   ]
  },
  {
   "cell_type": "code",
   "execution_count": 17,
   "metadata": {},
   "outputs": [
    {
     "name": "stdout",
     "output_type": "stream",
     "text": [
      "[67860, 68708, 68802]\n",
      "205370\n"
     ]
    }
   ],
   "source": [
    "# Part 2: Find the total of the top 3 elves calories\n",
    "all_elves_calories = []\n",
    "calorie_count = 0 \n",
    "\n",
    "for line in lines:\n",
    "    if line:\n",
    "        calorie_count += int(line)\n",
    "    else:\n",
    "        all_elves_calories.append(calorie_count)\n",
    "        calorie_count = 0\n",
    "print(sorted(all_elves_calories)[-3:])\n",
    "print(sum(sorted(all_elves_calories)[-3:]))"
   ]
  },
  {
   "cell_type": "markdown",
   "metadata": {},
   "source": [
    "## D2\n",
    "Play rock paper scissors against the elves with a preset strategy (cheat guide)"
   ]
  },
  {
   "cell_type": "code",
   "execution_count": 14,
   "metadata": {},
   "outputs": [
    {
     "data": {
      "text/plain": [
       "12772"
      ]
     },
     "execution_count": 14,
     "metadata": {},
     "output_type": "execute_result"
    }
   ],
   "source": [
    "# loss = 0, draw = 3, win = 6\n",
    "# scores for RPS rock = 1, paper = 2, scissors = 3\n",
    "# Rock Paper Scissors ABC (opponent) XYZ (you)\n",
    "# rock > paper > scissors > rock\n",
    "\n",
    "data = get_data('d2')\n",
    "\n",
    "# create a linked list of rock paper scissors\n",
    "def linked_list()\n",
    "\n",
    "\n",
    "match = {\"A\": \"X\", \"B\": \"Y\", \"C\": \"Z\"}\n",
    "score = 0\n",
    "\n",
    "for line in data: \n",
    "    elf, you = line.split()\n",
    "    if you == \"X\": \n",
    "        score += 1\n",
    "    elif you == \"Y\": \n",
    "        score += 2\n",
    "    elif you == \"Z\":\n",
    "        score += 3\n",
    "    if match[elf] == you: # draw\n",
    "        score += 3\n",
    "    elif match[elf] == \"X\" and you == \"Y\": # win\n",
    "        score += 6\n",
    "    elif match[elf] == \"Y\" and you == \"Z\": # win\n",
    "        score += 6\n",
    "    elif match[elf] == \"Z\" and you == \"X\": # win\n",
    "        score += 6\n",
    "    # ignore losses\n",
    "score\n",
    "    "
   ]
  },
  {
   "cell_type": "code",
   "execution_count": 45,
   "metadata": {},
   "outputs": [
    {
     "data": {
      "text/plain": [
       "11618"
      ]
     },
     "execution_count": 45,
     "metadata": {},
     "output_type": "execute_result"
    }
   ],
   "source": [
    "# Part 2\n",
    "# \"Anyway, the second column says how the round needs to end: X means you need to lose, Y means you need to end the round in a draw, and Z means you need to win. Good luck!\"\n",
    "dict = {\"AX\": 3, \"AY\": 1 + 3, \"AZ\": 2 + 6, \"BX\": 1, \"BY\": 2 + 3, \"BZ\": 3 + 6, \"CX\": 2, \"CY\": 3 + 3, \"CZ\": 1 + 6}\n",
    "\n",
    "score = 0\n",
    "for line in data:\n",
    "    score += dict[line.replace(\" \", \"\")]\n",
    "score"
   ]
  },
  {
   "cell_type": "code",
   "execution_count": null,
   "metadata": {},
   "outputs": [],
   "source": []
  }
 ],
 "metadata": {
  "kernelspec": {
   "display_name": "Python 3.10.6 ('data-science')",
   "language": "python",
   "name": "python3"
  },
  "language_info": {
   "codemirror_mode": {
    "name": "ipython",
    "version": 3
   },
   "file_extension": ".py",
   "mimetype": "text/x-python",
   "name": "python",
   "nbconvert_exporter": "python",
   "pygments_lexer": "ipython3",
   "version": "3.10.6"
  },
  "orig_nbformat": 4,
  "vscode": {
   "interpreter": {
    "hash": "e24dd9315d47c6324453c6322b0e37e6b4e434943da3bbec74bee1d56e9a00f4"
   }
  }
 },
 "nbformat": 4,
 "nbformat_minor": 2
}
