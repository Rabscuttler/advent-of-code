{
 "cells": [
  {
   "cell_type": "code",
   "execution_count": 2,
   "metadata": {},
   "outputs": [],
   "source": [
    "# utilities\n",
    "\n",
    "def get_data(day):\n",
    "    # e.g. get_data(d1)\n",
    "    with open(f'data/{day}.txt') as f:\n",
    "        lines = f.read().splitlines()\n",
    "    return lines"
   ]
  },
  {
   "cell_type": "markdown",
   "metadata": {},
   "source": [
    "## D1\n",
    "Input data are lines representing calories of food items, carried by each elf.  \n",
    "Next elf is demarcated by a blank line.  \n"
   ]
  },
  {
   "cell_type": "code",
   "execution_count": 4,
   "metadata": {},
   "outputs": [],
   "source": [
    "lines = get_data('d1')"
   ]
  },
  {
   "cell_type": "code",
   "execution_count": 6,
   "metadata": {},
   "outputs": [
    {
     "name": "stdout",
     "output_type": "stream",
     "text": [
      "68802\n"
     ]
    }
   ],
   "source": [
    "# Part 1: Find the elf with the highest total of calories\n",
    "max_elf_calories = 0\n",
    "calorie_count = 0 \n",
    "\n",
    "for line in lines:\n",
    "    if line:\n",
    "        calorie_count += int(line)\n",
    "    else:\n",
    "        max_elf_calories = max(max_elf_calories, calorie_count)\n",
    "        calorie_count = 0\n",
    "print(max_elf_calories)\n",
    "    "
   ]
  },
  {
   "cell_type": "code",
   "execution_count": 17,
   "metadata": {},
   "outputs": [
    {
     "name": "stdout",
     "output_type": "stream",
     "text": [
      "[67860, 68708, 68802]\n",
      "205370\n"
     ]
    }
   ],
   "source": [
    "# Part 2: Find the total of the top 3 elves calories\n",
    "all_elves_calories = []\n",
    "calorie_count = 0 \n",
    "\n",
    "for line in lines:\n",
    "    if line:\n",
    "        calorie_count += int(line)\n",
    "    else:\n",
    "        all_elves_calories.append(calorie_count)\n",
    "        calorie_count = 0\n",
    "print(sorted(all_elves_calories)[-3:])\n",
    "print(sum(sorted(all_elves_calories)[-3:]))"
   ]
  },
  {
   "cell_type": "markdown",
   "metadata": {},
   "source": [
    "## D2\n",
    "Play rock paper scissors against the elves with a preset strategy (cheat guide)"
   ]
  },
  {
   "cell_type": "code",
   "execution_count": 14,
   "metadata": {},
   "outputs": [
    {
     "data": {
      "text/plain": [
       "12772"
      ]
     },
     "execution_count": 14,
     "metadata": {},
     "output_type": "execute_result"
    }
   ],
   "source": [
    "# loss = 0, draw = 3, win = 6\n",
    "# scores for RPS rock = 1, paper = 2, scissors = 3\n",
    "# Rock Paper Scissors ABC (opponent) XYZ (you)\n",
    "# rock > paper > scissors > rock\n",
    "\n",
    "data = get_data('d2')\n",
    "\n",
    "# create a linked list of rock paper scissors\n",
    "def linked_list()\n",
    "\n",
    "\n",
    "match = {\"A\": \"X\", \"B\": \"Y\", \"C\": \"Z\"}\n",
    "score = 0\n",
    "\n",
    "for line in data: \n",
    "    elf, you = line.split()\n",
    "    if you == \"X\": \n",
    "        score += 1\n",
    "    elif you == \"Y\": \n",
    "        score += 2\n",
    "    elif you == \"Z\":\n",
    "        score += 3\n",
    "    if match[elf] == you: # draw\n",
    "        score += 3\n",
    "    elif match[elf] == \"X\" and you == \"Y\": # win\n",
    "        score += 6\n",
    "    elif match[elf] == \"Y\" and you == \"Z\": # win\n",
    "        score += 6\n",
    "    elif match[elf] == \"Z\" and you == \"X\": # win\n",
    "        score += 6\n",
    "    # ignore losses\n",
    "score\n",
    "    "
   ]
  },
  {
   "cell_type": "code",
   "execution_count": 45,
   "metadata": {},
   "outputs": [
    {
     "data": {
      "text/plain": [
       "11618"
      ]
     },
     "execution_count": 45,
     "metadata": {},
     "output_type": "execute_result"
    }
   ],
   "source": [
    "# Part 2\n",
    "# \"Anyway, the second column says how the round needs to end: X means you need to lose, Y means you need to end the round in a draw, and Z means you need to win. Good luck!\"\n",
    "dict = {\"AX\": 3, \"AY\": 1 + 3, \"AZ\": 2 + 6, \"BX\": 1, \"BY\": 2 + 3, \"BZ\": 3 + 6, \"CX\": 2, \"CY\": 3 + 3, \"CZ\": 1 + 6}\n",
    "\n",
    "score = 0\n",
    "for line in data:\n",
    "    score += dict[line.replace(\" \", \"\")]\n",
    "score"
   ]
  },
  {
   "cell_type": "markdown",
   "metadata": {},
   "source": [
    "## D3\n",
    "Rearrange items in elves rucksacks. Each rucksack has 2 compartments. All items of the same type must go in the same compartment.  \n",
    "Each char represents an item (upper and lower are different).  \n",
    "Compartments same size, so first half of line is c1, send is c2\n",
    "\n",
    "Item priority a-z, A-Z\n",
    "What is sum of priorities of items that appear in both compartments\n"
   ]
  },
  {
   "cell_type": "code",
   "execution_count": null,
   "metadata": {},
   "outputs": [],
   "source": [
    "bags = get_data('d3')"
   ]
  },
  {
   "cell_type": "code",
   "execution_count": 78,
   "metadata": {},
   "outputs": [
    {
     "data": {
      "text/plain": [
       "8176"
      ]
     },
     "execution_count": 78,
     "metadata": {},
     "output_type": "execute_result"
    }
   ],
   "source": [
    "score = 0\n",
    "for bag in bags:\n",
    "    # split bag in half\n",
    "    c1 = bag[:len(bag)//2]\n",
    "    c2 = bag[len(bag)//2:]\n",
    "    s = list(set(c1).intersection(set(c2)))[0]\n",
    "    if s.isupper():\n",
    "        score += ord(s)-64+26\n",
    "    else:\n",
    "        score += ord(s)-96\n",
    "score\n"
   ]
  },
  {
   "cell_type": "code",
   "execution_count": 82,
   "metadata": {},
   "outputs": [
    {
     "data": {
      "text/plain": [
       "2689"
      ]
     },
     "execution_count": 82,
     "metadata": {},
     "output_type": "execute_result"
    }
   ],
   "source": [
    "# part 2\n",
    "# split bags into groups of 3, find common item type and sum priorities\n",
    "score = 0 \n",
    "for i in range(0, len(bags), 3):\n",
    "    b1, b2, b3 = bags[i:i+3]\n",
    "    s = list(set(b1).intersection(set(b2), set(b3)))[0]\n",
    "    if s.isupper():\n",
    "        score += ord(s)-64+26\n",
    "    else:\n",
    "        score += ord(s)-96\n",
    "score"
   ]
  },
  {
   "cell_type": "markdown",
   "metadata": {},
   "source": [
    "## D4\n",
    "How many sections fully contain the other"
   ]
  },
  {
   "cell_type": "code",
   "execution_count": 58,
   "metadata": {},
   "outputs": [
    {
     "data": {
      "text/plain": [
       "[[98, 99], [3, 97]]"
      ]
     },
     "execution_count": 58,
     "metadata": {},
     "output_type": "execute_result"
    }
   ],
   "source": [
    "sections = get_data(\"d4\")\n",
    "sections = [[list(map(int,x.split('-'))) for x in y.split(',')] for y in sections]\n",
    "sections[0] "
   ]
  },
  {
   "cell_type": "code",
   "execution_count": 59,
   "metadata": {},
   "outputs": [
    {
     "data": {
      "text/plain": [
       "459"
      ]
     },
     "execution_count": 59,
     "metadata": {},
     "output_type": "execute_result"
    }
   ],
   "source": [
    "# [1,10], [2,3]\n",
    "\n",
    "count = 0\n",
    "for section in sections:\n",
    "    if (section[0][0] <= section[1][0]) and (section[0][1] >= section[1][1]):\n",
    "        count += 1 # section 1 contains section 2\n",
    "        continue # avoid double counting\n",
    "    elif section[1][0] <= section[0][0] and section[1][1] >= section[0][1]:\n",
    "        count += 1 # section 2 contains section 1\n",
    "        continue\n",
    "count"
   ]
  },
  {
   "cell_type": "code",
   "execution_count": 60,
   "metadata": {},
   "outputs": [
    {
     "data": {
      "text/plain": [
       "779"
      ]
     },
     "execution_count": 60,
     "metadata": {},
     "output_type": "execute_result"
    }
   ],
   "source": [
    "# [1,10], [2,3]\n",
    "# part 2 \n",
    "# how many pairs overlap\n",
    "count = 0\n",
    "for section in sections:\n",
    "    # check if section 1 is below section 2\n",
    "    if section[0][0] < section[1][0] and section[0][1] < section[1][0]:\n",
    "        continue\n",
    "    # check if section 1 is above section 2\n",
    "    elif section[0][0] > section[1][1] and section[0][1] > section[1][1]:\n",
    "        continue\n",
    "    else:\n",
    "        count+=1\n",
    "count"
   ]
  },
  {
   "cell_type": "markdown",
   "metadata": {},
   "source": [
    "Expanding the ranges and using set intersections could have been interesting"
   ]
  },
  {
   "cell_type": "markdown",
   "metadata": {},
   "source": [
    "## d5"
   ]
  },
  {
   "cell_type": "code",
   "execution_count": 119,
   "metadata": {},
   "outputs": [
    {
     "data": {
      "text/plain": [
       "[[4, 3], [4, 3], [4, 3], [4, 3], [4, 3]]"
      ]
     },
     "execution_count": 119,
     "metadata": {},
     "output_type": "execute_result"
    }
   ],
   "source": [
    "data = get_data('d5')\n",
    "start = data[:9]\n",
    "moves = data[10:]\n",
    "\n",
    "# turn into pairs of operations, expanding the repetitions\n",
    "input = [list(map(int, m.replace('move ', '').replace(' from ', ',').replace(' to ', ',').split(','))) for m in moves]\n",
    "input[0][0] * [[input[0][1], input[0][2]]]\n",
    "movelist = []\n",
    "for i in input:\n",
    "    movelist.extend((i[0] * [[i[1], i[2]]]))\n",
    "movelist[:5]"
   ]
  },
  {
   "cell_type": "code",
   "execution_count": 122,
   "metadata": {},
   "outputs": [
    {
     "data": {
      "text/plain": [
       "['[F]         [L]     [M]            ',\n",
       " '[T]     [H] [V] [G] [V]            ',\n",
       " '[N]     [T] [D] [R] [N]     [D]    ',\n",
       " '[Z]     [B] [C] [P] [B] [R] [Z]    ',\n",
       " '[M]     [J] [N] [M] [F] [M] [V] [H]',\n",
       " '[G] [J] [L] [J] [S] [C] [G] [M] [F]',\n",
       " '[H] [W] [V] [P] [W] [H] [H] [N] [N]',\n",
       " '[J] [V] [G] [B] [F] [G] [D] [H] [G]',\n",
       " ' 1   2   3   4   5   6   7   8   9 ']"
      ]
     },
     "execution_count": 122,
     "metadata": {},
     "output_type": "execute_result"
    }
   ],
   "source": [
    "start"
   ]
  },
  {
   "cell_type": "code",
   "execution_count": 123,
   "metadata": {},
   "outputs": [
    {
     "data": {
      "text/plain": [
       "['FTNZMGHJ',\n",
       " 'JWV',\n",
       " 'HTBJLVG',\n",
       " 'LVDCNJPB',\n",
       " 'GRPMSWF',\n",
       " 'MVNBFCHG',\n",
       " 'RMGHD',\n",
       " 'DZVMNH',\n",
       " 'HFNG']"
      ]
     },
     "execution_count": 123,
     "metadata": {},
     "output_type": "execute_result"
    }
   ],
   "source": [
    "# turn crates into list of lists\n",
    "crates = [''] * 9\n",
    "for row in start[:-1]: # skip last row\n",
    "    for i in range(0, 9):\n",
    "        # want 2, 7, 12, 17 etc\n",
    "        # 0, 1, 2, 3,\n",
    "        crates[i] += row[4*i+1]\n",
    "crates = [x.strip() for x in crates]\n",
    "crates"
   ]
  },
  {
   "cell_type": "code",
   "execution_count": 106,
   "metadata": {},
   "outputs": [
    {
     "data": {
      "text/plain": [
       "['T',\n",
       " 'DPHJNGC',\n",
       " 'CNBPVGLDSRRMMHZNLJVWMGFHNGHVGM',\n",
       " 'HFN',\n",
       " 'VBFWJZDM',\n",
       " 'HB',\n",
       " 'J',\n",
       " 'TFV',\n",
       " 'G']"
      ]
     },
     "execution_count": 106,
     "metadata": {},
     "output_type": "execute_result"
    }
   ],
   "source": [
    "for move in movelist:\n",
    "    # print(move)\n",
    "    # print(crates[move[0]-1], crates[move[1]-1])\n",
    "    crates[move[1]-1] = (crates[move[0]-1][0]) + crates[move[1]-1]\n",
    "    crates[move[0]-1] = crates[move[0]-1][1:]\n",
    "    # print(crates[move[0]-1], crates[move[1]-1])\n",
    "crates"
   ]
  },
  {
   "cell_type": "code",
   "execution_count": 111,
   "metadata": {},
   "outputs": [
    {
     "data": {
      "text/plain": [
       "'TDCHVHJTG'"
      ]
     },
     "execution_count": 111,
     "metadata": {},
     "output_type": "execute_result"
    }
   ],
   "source": [
    "answer = ''\n",
    "for x in crates:\n",
    "    answer += x[0]\n",
    "answer"
   ]
  },
  {
   "cell_type": "code",
   "execution_count": 140,
   "metadata": {},
   "outputs": [
    {
     "data": {
      "text/plain": [
       "[[6, 4, 3], [5, 8, 9], [1, 4, 5], [1, 4, 5], [2, 2, 7]]"
      ]
     },
     "execution_count": 140,
     "metadata": {},
     "output_type": "execute_result"
    }
   ],
   "source": [
    "# part 2\n",
    "# my decision to expand each moves into 1 operation per crate was a bad idea\n",
    "data = get_data('d5')\n",
    "start = data[:9]\n",
    "moves = data[10:]\n",
    "\n",
    "input = [list(map(int, m.replace('move ', '').replace(' from ', ',').replace(' to ', ',').split(','))) for m in moves]\n",
    "input[:5]"
   ]
  },
  {
   "cell_type": "code",
   "execution_count": 141,
   "metadata": {},
   "outputs": [
    {
     "data": {
      "text/plain": [
       "['FTNZMGHJ',\n",
       " 'JWV',\n",
       " 'HTBJLVG',\n",
       " 'LVDCNJPB',\n",
       " 'GRPMSWF',\n",
       " 'MVNBFCHG',\n",
       " 'RMGHD',\n",
       " 'DZVMNH',\n",
       " 'HFNG']"
      ]
     },
     "execution_count": 141,
     "metadata": {},
     "output_type": "execute_result"
    }
   ],
   "source": [
    "# turn crates into list of lists\n",
    "crates = [''] * 9\n",
    "for row in start[:-1]: # skip last row\n",
    "    for i in range(0, 9):\n",
    "        # want 2, 7, 12, 17 etc\n",
    "        # 0, 1, 2, 3,\n",
    "        crates[i] += row[4*i+1]\n",
    "crates = [x.strip() for x in crates]\n",
    "crates"
   ]
  },
  {
   "cell_type": "code",
   "execution_count": 142,
   "metadata": {},
   "outputs": [
    {
     "data": {
      "text/plain": [
       "['[F]         [L]     [M]            ',\n",
       " '[T]     [H] [V] [G] [V]            ',\n",
       " '[N]     [T] [D] [R] [N]     [D]    ',\n",
       " '[Z]     [B] [C] [P] [B] [R] [Z]    ',\n",
       " '[M]     [J] [N] [M] [F] [M] [V] [H]',\n",
       " '[G] [J] [L] [J] [S] [C] [G] [M] [F]',\n",
       " '[H] [W] [V] [P] [W] [H] [H] [N] [N]',\n",
       " '[J] [V] [G] [B] [F] [G] [D] [H] [G]',\n",
       " ' 1   2   3   4   5   6   7   8   9 ']"
      ]
     },
     "execution_count": 142,
     "metadata": {},
     "output_type": "execute_result"
    }
   ],
   "source": [
    "start"
   ]
  },
  {
   "cell_type": "code",
   "execution_count": 143,
   "metadata": {},
   "outputs": [
    {
     "data": {
      "text/plain": [
       "['N',\n",
       " 'GGGGMRV',\n",
       " 'CNWBJHLJZRZNBCVPFVNNVHFTGBMWDD',\n",
       " 'MSH',\n",
       " 'PHFJGTMH',\n",
       " 'JM',\n",
       " 'L',\n",
       " 'HFD',\n",
       " 'V']"
      ]
     },
     "execution_count": 143,
     "metadata": {},
     "output_type": "execute_result"
    }
   ],
   "source": [
    "# for each move in input, n, a, b, move n crates from a to b\n",
    "for move in input:\n",
    "    # print(move)\n",
    "    # print(crates)\n",
    "    crates[move[2]-1] = (crates[move[1]-1][0:move[0]]) + crates[move[2]-1]\n",
    "    crates[move[1]-1] = crates[move[1]-1][move[0]:]\n",
    "    # print(crates)\n",
    "crates"
   ]
  },
  {
   "cell_type": "code",
   "execution_count": 144,
   "metadata": {},
   "outputs": [
    {
     "data": {
      "text/plain": [
       "'NGCMPJLHV'"
      ]
     },
     "execution_count": 144,
     "metadata": {},
     "output_type": "execute_result"
    }
   ],
   "source": [
    "answer = ''\n",
    "for x in crates:\n",
    "    answer += x[0]\n",
    "answer"
   ]
  },
  {
   "cell_type": "markdown",
   "metadata": {},
   "source": [
    "## D6\n",
    "Fix the walkie talkie by identifying a start of packet marker: 4 consecutive chars that are all different.  \n",
    "P1, P2 - finding the packet marker, 4 chars, and message marker, 14 chars"
   ]
  },
  {
   "cell_type": "code",
   "execution_count": 176,
   "metadata": {},
   "outputs": [],
   "source": [
    "input = get_data('d6')"
   ]
  },
  {
   "cell_type": "code",
   "execution_count": 180,
   "metadata": {},
   "outputs": [
    {
     "data": {
      "text/plain": [
       "(['d', 'c', 'b', 'c'],\n",
       " ['d', 'c', 'b', 'c', 's', 'b', 'b', 'l', 'h', 'h', 'g', 'd', 'g', 's'])"
      ]
     },
     "execution_count": 180,
     "metadata": {},
     "output_type": "execute_result"
    }
   ],
   "source": [
    "packet_marker = [*input[0][:4]] # keep last 4 packets in this array\n",
    "message_marker = [*input[0][:14]] # keep last 4 packets in this array\n",
    "packet_marker, message_marker"
   ]
  },
  {
   "cell_type": "code",
   "execution_count": 181,
   "metadata": {},
   "outputs": [
    {
     "name": "stdout",
     "output_type": "stream",
     "text": [
      "Part 1 - Marker found at last packet: 1238\n"
     ]
    }
   ],
   "source": [
    "for i in range(4, len(input[0])):\n",
    "    if len(set(packet_marker)) == 4:\n",
    "        print(f\"Part 1 - Marker found at last packet: {i}\")\n",
    "        break\n",
    "\n",
    "    packet_marker.pop(0)\n",
    "    packet_marker.append(input[0][i])"
   ]
  },
  {
   "cell_type": "code",
   "execution_count": 182,
   "metadata": {},
   "outputs": [
    {
     "name": "stdout",
     "output_type": "stream",
     "text": [
      "Part 2 - Marker found at last packet: 3037\n"
     ]
    }
   ],
   "source": [
    "for i in range(14, len(input[0])):\n",
    "    if len(set(message_marker)) == 14:\n",
    "        print(f\"Part 2 - Marker found at last packet: {i}\")\n",
    "        break\n",
    "    message_marker.pop(0)\n",
    "    message_marker.append(input[0][i])\n",
    "        "
   ]
  },
  {
   "cell_type": "markdown",
   "metadata": {},
   "source": [
    "## D7"
   ]
  },
  {
   "cell_type": "code",
   "execution_count": 208,
   "metadata": {},
   "outputs": [],
   "source": [
    "import re\n",
    "\n",
    "commands = get_data('d7')\n",
    "\n",
    "# we need to construct a tree of folders, each should have its parent and its size\n",
    "folders = {'/': {'parent': None, 'size': 0}} # root folder\n",
    "\n",
    "current_dir = [] # list of directories visited in order\n",
    "\n",
    "# we need recursion to parse the tree\n",
    "for command in commands:\n",
    "\n",
    "    # keep track of directory\n",
    "    if command == \"$ cd ..\":     \n",
    "        if folders[current_dir]['parent'] == None:\n",
    "            continue\n",
    "        current_dir = folders[current_dir]['parent']\n",
    "    elif command[:4] == \"$ cd\": \n",
    "        current_dir = command[5:]\n",
    "    \n",
    "    if command[:4] == \"dir \":\n",
    "        if command[4:] not in folders:\n",
    "            folders[command[4:]] = {'parent': current_dir, 'size': 0}\n",
    "        continue\n",
    "    else:\n",
    "        # folders[current_dir]['size'] += \n",
    "        match = re.match(r\"(\\d+)\", command)\n",
    "        if match:\n",
    "            folders[current_dir]['size'] += int(match.groups()[0])\n",
    "\n",
    "# folders"
   ]
  },
  {
   "cell_type": "code",
   "execution_count": 209,
   "metadata": {},
   "outputs": [],
   "source": [
    "def add_to_parents(folder):\n",
    "    if folder == '/':\n",
    "        return\n",
    "    folders[folders[folder]['parent']]['size'] += folders[folder]['size']\n",
    "    add_to_parents(folders[folder]['parent'])\n",
    "\n",
    "for folder in folders:\n",
    "    add_to_parents(folder)"
   ]
  },
  {
   "cell_type": "code",
   "execution_count": 210,
   "metadata": {},
   "outputs": [
    {
     "data": {
      "text/plain": [
       "1834636"
      ]
     },
     "execution_count": 210,
     "metadata": {},
     "output_type": "execute_result"
    }
   ],
   "source": [
    "sum([x[1]['size'] for x in folders.items() if x[1]['size'] <= 100000])\n",
    "\n",
    "# 1834636"
   ]
  },
  {
   "cell_type": "markdown",
   "metadata": {},
   "source": [
    "consulting reddit... :/ "
   ]
  },
  {
   "cell_type": "code",
   "execution_count": 217,
   "metadata": {},
   "outputs": [
    {
     "name": "stdout",
     "output_type": "stream",
     "text": [
      "===part 1===\n",
      " 1844187\n",
      "=== part 2 ===\n",
      " - Qualifying Dirs \n",
      "    -     -     -     -     -     -     -     -     -     -     - //nhqwt/mcnjwwfr/dqp/rpchqq/lrphzrv:  6721126\n",
      "Smallest:  4978279\n"
     ]
    }
   ],
   "source": [
    "def get_fs_size(filename): \n",
    "    with open(filename) as file: \n",
    "        lines = file.readlines()\n",
    "        fs = {('/',):0} \n",
    "        path = []\n",
    "        for line in lines: \n",
    "            match line.split(): \n",
    "                case [\"$\", \"ls\"]: \n",
    "                    pass\n",
    "                case [\"$\", \"cd\", \"..\"]:\n",
    "                    path = path[:-1]\n",
    "\n",
    "                case [\"$\", \"cd\", directory]:\n",
    "                    path += [directory]\n",
    "\n",
    "                case[\"dir\", directory]:\n",
    "                    fs.setdefault(tuple(path + [directory]), 0)\n",
    "\n",
    "                case[size, filename]:\n",
    "                    for i in range(1, len(path) + 1):\n",
    "                        fs[tuple(path[:i])] += int(size)\n",
    "\n",
    "    return fs \n",
    "\n",
    "fs = get_fs_size(\"data/d7.txt\")\n",
    "over_10k = [x for x in fs.values() if x <= 100000]\n",
    "\n",
    "print(\"===part 1===\\n\", sum([x for x in fs.values() if x <= 100000]))\n",
    "\n",
    "print(\"=== part 2 ===\") \n",
    "FS_SIZE = 70000000 \n",
    "SPACE_NEEDED = 30000000\n",
    "unused = FS_SIZE - fs[(\"/\",)] \n",
    "size_to_del = SPACE_NEEDED - unused \n",
    "big_enough_dirs = {k:v for (k,v) in fs.items() if v >= size_to_del}\n",
    "print(\" - Qualifying Dirs \") \n",
    "for k, v in big_enough_dirs.items(): print(\"    - \", end=\"\") \n",
    "print(*k, sep=\"/\", end=\"\") \n",
    "print(\": \", v)\n",
    "print(\"Smallest: \", min(big_enough_dirs.values()))"
   ]
  },
  {
   "cell_type": "markdown",
   "metadata": {},
   "source": [
    "## D8\n",
    "Lets try again after not doing too well on d7"
   ]
  },
  {
   "cell_type": "code",
   "execution_count": 269,
   "metadata": {},
   "outputs": [],
   "source": [
    "import numpy as np\n",
    "\n",
    "data = get_data('d8')\n",
    "\n",
    "transpose_data = np.array([[*row] for row in data]).T.tolist()\n",
    "transpose_data = [''.join(row) for row in transpose_data]"
   ]
  },
  {
   "cell_type": "code",
   "execution_count": 276,
   "metadata": {},
   "outputs": [
    {
     "data": {
      "text/plain": [
       "['301201331333030024002151134115545441525510053410321024643223304253251423014345311431413433341211111',\n",
       " '210313031411030140245452501003514242514125366210551353634546632015232323540022212401412031113310333',\n",
       " '201223331222432221305443412445304401201165033624245311620346242360420521343514132520204104244200322',\n",
       " '210003034413133345421153101053132524226234460546142402452466345321440520524311212410303224012242000',\n",
       " '002232200024321241105051144044530503201446133504652500410463241436361361002024122340512441243222203']"
      ]
     },
     "execution_count": 276,
     "metadata": {},
     "output_type": "execute_result"
    }
   ],
   "source": [
    "data[:5]"
   ]
  },
  {
   "cell_type": "code",
   "execution_count": 275,
   "metadata": {},
   "outputs": [
    {
     "data": {
      "text/plain": [
       "['322201003014101243412451520142400351421215541303454563106045011235431142153245230204004203212011200',\n",
       " '010100130231043101142550355411030135112504355511233421503353503052544334550343002311331214030230201',\n",
       " '101022142232001203421351242443202542523353465032340255260630563005513342024300430424022043122023113',\n",
       " '232020442224043211234104244251453606112111443104260106612621405250420123542353334421213144014221222',\n",
       " '012032321001243032152134322141406026236525420366061006060440554510661145200531142141310233004144332']"
      ]
     },
     "execution_count": 275,
     "metadata": {},
     "output_type": "execute_result"
    }
   ],
   "source": [
    "transpose_data[:5]"
   ]
  },
  {
   "cell_type": "code",
   "execution_count": 313,
   "metadata": {},
   "outputs": [
    {
     "name": "stdout",
     "output_type": "stream",
     "text": [
      "Total visible trees is 1770\n"
     ]
    }
   ],
   "source": [
    "# for each row we can go row-wise, columnn-wise to check previous visilbity, then go backwards\n",
    "# then transpose it and do the same thing?\n",
    "\n",
    "# avoid double counting by saving the index\n",
    "all_visible = []\n",
    "\n",
    "def count_row_visibility(row, row_num, backwards=False):\n",
    "    if backwards:\n",
    "        # print('backwards')\n",
    "        all_visible.append((row_num, 98))\n",
    "    else:\n",
    "        all_visible.append((row_num, 0))\n",
    "    seen = [row[0]]\n",
    "    # print(f\"Visible: {row[0]}\")\n",
    "    # print(all_visible)\n",
    "    for col_num, num in enumerate(row):\n",
    "        if num > max(seen):\n",
    "            # print(f\"Visible: {num}\")\n",
    "            if backwards:\n",
    "                all_visible.append((row_num, 98 - col_num))\n",
    "                # print('backwards', all_visible)\n",
    "            else:\n",
    "                all_visible.append((row_num, col_num))\n",
    "                # print(all_visible)\n",
    "        seen.append(num)\n",
    "    return\n",
    "\n",
    "for i, row in enumerate(data):\n",
    "    count_row_visibility(row, i)\n",
    "    count_row_visibility(row[::-1], i, backwards=True)\n",
    "for i, row in enumerate(transpose_data):\n",
    "    count_row_visibility(row, i)\n",
    "    count_row_visibility(row[::-1], i, backwards=True)\n",
    "print(f\"Total visible trees is {len(set(all_visible))}\")"
   ]
  },
  {
   "cell_type": "code",
   "execution_count": 314,
   "metadata": {},
   "outputs": [],
   "source": [
    "# not correct..."
   ]
  },
  {
   "cell_type": "markdown",
   "metadata": {},
   "source": [
    "## D9"
   ]
  },
  {
   "cell_type": "code",
   "execution_count": 317,
   "metadata": {},
   "outputs": [
    {
     "data": {
      "text/plain": [
       "['U 2', 'D 2', 'R 2', 'U 2', 'D 1', 'L 2', 'R 2', 'D 1', 'R 2', 'D 1']"
      ]
     },
     "execution_count": 317,
     "metadata": {},
     "output_type": "execute_result"
    }
   ],
   "source": [
    "data=get_data('d9')\n",
    "data[:10]"
   ]
  },
  {
   "cell_type": "code",
   "execution_count": 404,
   "metadata": {},
   "outputs": [
    {
     "data": {
      "text/plain": [
       "1580"
      ]
     },
     "execution_count": 404,
     "metadata": {},
     "output_type": "execute_result"
    }
   ],
   "source": [
    "H = T = (0, 0) # initial_state\n",
    "\n",
    "def move_to_vector(move):\n",
    "    direction, scale = move.split(' ') # U 2\n",
    "    vector = {\"U\": (0, 1), \"D\": (0, -1), \"L\": (-1, 0), \"R\": (1, 0)}[direction]\n",
    "    return (vector, int(scale), direction)\n",
    "\n",
    "H_path = [H]\n",
    "T_path = [T]\n",
    "\n",
    "# T moves if H[0] - T[0] > 0 AND H[1] - T[1] > 0\n",
    "def move_T(H, T, move):\n",
    "    vector, scale, direction = move_to_vector(move)\n",
    "    # print(f\"Move: {move}\")\n",
    "    for _ in range(scale):        \n",
    "        # move head\n",
    "        H = (H[0] + vector[0], H[1] + vector[1]) \n",
    "        # check if tail moves\n",
    "        if H[0] - T[0] > 1 or H[1] - T[1] > 1:\n",
    "            # move tail\n",
    "            # print(\"move tail from: \", T)\n",
    "            if direction == \"U\" or direction == \"D\":\n",
    "                T =  (H[0], T[1] + vector[1])\n",
    "            elif direction == \"L\" or direction == \"R\":\n",
    "                T =  (T[0] + vector[0], H[1])\n",
    "            # print(\"move tail to: \", T)\n",
    "            \n",
    "        H_path.append(H)\n",
    "        T_path.append(T)\n",
    "    return H, T\n",
    "\n",
    "for move in data:\n",
    "    H, T = move_T(H, T, move)\n",
    "len(set(T_path))\n",
    "\n",
    "# too low again 1580\n"
   ]
  },
  {
   "cell_type": "code",
   "execution_count": 401,
   "metadata": {},
   "outputs": [
    {
     "name": "stdout",
     "output_type": "stream",
     "text": [
      "(0, 0) (0, 0)\n",
      "[[0. 0. 0. 0. 0. 0. 0. 0. 0.]\n",
      " [0. 0. 0. 0. 0. 0. 0. 0. 0.]\n",
      " [0. 0. 0. 0. 0. 0. 0. 0. 0.]\n",
      " [0. 0. 0. 0. 0. 0. 0. 0. 0.]\n",
      " [0. 0. 0. 0. 2. 0. 0. 0. 0.]\n",
      " [0. 0. 0. 0. 0. 0. 0. 0. 0.]\n",
      " [0. 0. 0. 0. 0. 0. 0. 0. 0.]\n",
      " [0. 0. 0. 0. 0. 0. 0. 0. 0.]\n",
      " [0. 0. 0. 0. 0. 0. 0. 0. 0.]]\n",
      "(0, 1) (0, 0)\n",
      "[[0. 0. 0. 0. 0. 0. 0. 0. 0.]\n",
      " [0. 0. 0. 0. 0. 0. 0. 0. 0.]\n",
      " [0. 0. 0. 0. 0. 0. 0. 0. 0.]\n",
      " [0. 0. 0. 0. 0. 0. 0. 0. 0.]\n",
      " [0. 0. 0. 0. 1. 2. 0. 0. 0.]\n",
      " [0. 0. 0. 0. 0. 0. 0. 0. 0.]\n",
      " [0. 0. 0. 0. 0. 0. 0. 0. 0.]\n",
      " [0. 0. 0. 0. 0. 0. 0. 0. 0.]\n",
      " [0. 0. 0. 0. 0. 0. 0. 0. 0.]]\n",
      "(0, 2) (0, 1)\n",
      "[[0. 0. 0. 0. 0. 0. 0. 0. 0.]\n",
      " [0. 0. 0. 0. 0. 0. 0. 0. 0.]\n",
      " [0. 0. 0. 0. 0. 0. 0. 0. 0.]\n",
      " [0. 0. 0. 0. 0. 0. 0. 0. 0.]\n",
      " [0. 0. 0. 0. 0. 1. 2. 0. 0.]\n",
      " [0. 0. 0. 0. 0. 0. 0. 0. 0.]\n",
      " [0. 0. 0. 0. 0. 0. 0. 0. 0.]\n",
      " [0. 0. 0. 0. 0. 0. 0. 0. 0.]\n",
      " [0. 0. 0. 0. 0. 0. 0. 0. 0.]]\n",
      "(0, 1) (0, 1)\n",
      "[[0. 0. 0. 0. 0. 0. 0. 0. 0.]\n",
      " [0. 0. 0. 0. 0. 0. 0. 0. 0.]\n",
      " [0. 0. 0. 0. 0. 0. 0. 0. 0.]\n",
      " [0. 0. 0. 0. 0. 0. 0. 0. 0.]\n",
      " [0. 0. 0. 0. 0. 2. 0. 0. 0.]\n",
      " [0. 0. 0. 0. 0. 0. 0. 0. 0.]\n",
      " [0. 0. 0. 0. 0. 0. 0. 0. 0.]\n",
      " [0. 0. 0. 0. 0. 0. 0. 0. 0.]\n",
      " [0. 0. 0. 0. 0. 0. 0. 0. 0.]]\n",
      "(0, 0) (0, 1)\n",
      "[[0. 0. 0. 0. 0. 0. 0. 0. 0.]\n",
      " [0. 0. 0. 0. 0. 0. 0. 0. 0.]\n",
      " [0. 0. 0. 0. 0. 0. 0. 0. 0.]\n",
      " [0. 0. 0. 0. 0. 0. 0. 0. 0.]\n",
      " [0. 0. 0. 0. 2. 1. 0. 0. 0.]\n",
      " [0. 0. 0. 0. 0. 0. 0. 0. 0.]\n",
      " [0. 0. 0. 0. 0. 0. 0. 0. 0.]\n",
      " [0. 0. 0. 0. 0. 0. 0. 0. 0.]\n",
      " [0. 0. 0. 0. 0. 0. 0. 0. 0.]]\n",
      "(1, 0) (0, 1)\n",
      "[[0. 0. 0. 0. 0. 0. 0. 0. 0.]\n",
      " [0. 0. 0. 0. 0. 0. 0. 0. 0.]\n",
      " [0. 0. 0. 0. 0. 0. 0. 0. 0.]\n",
      " [0. 0. 0. 0. 0. 0. 0. 0. 0.]\n",
      " [0. 0. 0. 0. 0. 1. 0. 0. 0.]\n",
      " [0. 0. 0. 0. 2. 0. 0. 0. 0.]\n",
      " [0. 0. 0. 0. 0. 0. 0. 0. 0.]\n",
      " [0. 0. 0. 0. 0. 0. 0. 0. 0.]\n",
      " [0. 0. 0. 0. 0. 0. 0. 0. 0.]]\n",
      "(2, 0) (1, 0)\n",
      "[[0. 0. 0. 0. 0. 0. 0. 0. 0.]\n",
      " [0. 0. 0. 0. 0. 0. 0. 0. 0.]\n",
      " [0. 0. 0. 0. 0. 0. 0. 0. 0.]\n",
      " [0. 0. 0. 0. 0. 0. 0. 0. 0.]\n",
      " [0. 0. 0. 0. 0. 0. 0. 0. 0.]\n",
      " [0. 0. 0. 0. 1. 0. 0. 0. 0.]\n",
      " [0. 0. 0. 0. 2. 0. 0. 0. 0.]\n",
      " [0. 0. 0. 0. 0. 0. 0. 0. 0.]\n",
      " [0. 0. 0. 0. 0. 0. 0. 0. 0.]]\n",
      "(2, 1) (1, 0)\n",
      "[[0. 0. 0. 0. 0. 0. 0. 0. 0.]\n",
      " [0. 0. 0. 0. 0. 0. 0. 0. 0.]\n",
      " [0. 0. 0. 0. 0. 0. 0. 0. 0.]\n",
      " [0. 0. 0. 0. 0. 0. 0. 0. 0.]\n",
      " [0. 0. 0. 0. 0. 0. 0. 0. 0.]\n",
      " [0. 0. 0. 0. 1. 0. 0. 0. 0.]\n",
      " [0. 0. 0. 0. 0. 2. 0. 0. 0.]\n",
      " [0. 0. 0. 0. 0. 0. 0. 0. 0.]\n",
      " [0. 0. 0. 0. 0. 0. 0. 0. 0.]]\n",
      "(2, 2) (2, 1)\n",
      "[[0. 0. 0. 0. 0. 0. 0. 0. 0.]\n",
      " [0. 0. 0. 0. 0. 0. 0. 0. 0.]\n",
      " [0. 0. 0. 0. 0. 0. 0. 0. 0.]\n",
      " [0. 0. 0. 0. 0. 0. 0. 0. 0.]\n",
      " [0. 0. 0. 0. 0. 0. 0. 0. 0.]\n",
      " [0. 0. 0. 0. 0. 0. 0. 0. 0.]\n",
      " [0. 0. 0. 0. 0. 1. 2. 0. 0.]\n",
      " [0. 0. 0. 0. 0. 0. 0. 0. 0.]\n",
      " [0. 0. 0. 0. 0. 0. 0. 0. 0.]]\n",
      "(2, 1) (2, 1)\n",
      "[[0. 0. 0. 0. 0. 0. 0. 0. 0.]\n",
      " [0. 0. 0. 0. 0. 0. 0. 0. 0.]\n",
      " [0. 0. 0. 0. 0. 0. 0. 0. 0.]\n",
      " [0. 0. 0. 0. 0. 0. 0. 0. 0.]\n",
      " [0. 0. 0. 0. 0. 0. 0. 0. 0.]\n",
      " [0. 0. 0. 0. 0. 0. 0. 0. 0.]\n",
      " [0. 0. 0. 0. 0. 2. 0. 0. 0.]\n",
      " [0. 0. 0. 0. 0. 0. 0. 0. 0.]\n",
      " [0. 0. 0. 0. 0. 0. 0. 0. 0.]]\n",
      "(1, 1) (2, 1)\n",
      "[[0. 0. 0. 0. 0. 0. 0. 0. 0.]\n",
      " [0. 0. 0. 0. 0. 0. 0. 0. 0.]\n",
      " [0. 0. 0. 0. 0. 0. 0. 0. 0.]\n",
      " [0. 0. 0. 0. 0. 0. 0. 0. 0.]\n",
      " [0. 0. 0. 0. 0. 0. 0. 0. 0.]\n",
      " [0. 0. 0. 0. 0. 2. 0. 0. 0.]\n",
      " [0. 0. 0. 0. 0. 1. 0. 0. 0.]\n",
      " [0. 0. 0. 0. 0. 0. 0. 0. 0.]\n",
      " [0. 0. 0. 0. 0. 0. 0. 0. 0.]]\n",
      "(0, 1) (2, 1)\n",
      "[[0. 0. 0. 0. 0. 0. 0. 0. 0.]\n",
      " [0. 0. 0. 0. 0. 0. 0. 0. 0.]\n",
      " [0. 0. 0. 0. 0. 0. 0. 0. 0.]\n",
      " [0. 0. 0. 0. 0. 0. 0. 0. 0.]\n",
      " [0. 0. 0. 0. 0. 2. 0. 0. 0.]\n",
      " [0. 0. 0. 0. 0. 0. 0. 0. 0.]\n",
      " [0. 0. 0. 0. 0. 1. 0. 0. 0.]\n",
      " [0. 0. 0. 0. 0. 0. 0. 0. 0.]\n",
      " [0. 0. 0. 0. 0. 0. 0. 0. 0.]]\n",
      "(1, 1) (2, 1)\n",
      "[[0. 0. 0. 0. 0. 0. 0. 0. 0.]\n",
      " [0. 0. 0. 0. 0. 0. 0. 0. 0.]\n",
      " [0. 0. 0. 0. 0. 0. 0. 0. 0.]\n",
      " [0. 0. 0. 0. 0. 0. 0. 0. 0.]\n",
      " [0. 0. 0. 0. 0. 0. 0. 0. 0.]\n",
      " [0. 0. 0. 0. 0. 2. 0. 0. 0.]\n",
      " [0. 0. 0. 0. 0. 1. 0. 0. 0.]\n",
      " [0. 0. 0. 0. 0. 0. 0. 0. 0.]\n",
      " [0. 0. 0. 0. 0. 0. 0. 0. 0.]]\n",
      "(2, 1) (2, 1)\n",
      "[[0. 0. 0. 0. 0. 0. 0. 0. 0.]\n",
      " [0. 0. 0. 0. 0. 0. 0. 0. 0.]\n",
      " [0. 0. 0. 0. 0. 0. 0. 0. 0.]\n",
      " [0. 0. 0. 0. 0. 0. 0. 0. 0.]\n",
      " [0. 0. 0. 0. 0. 0. 0. 0. 0.]\n",
      " [0. 0. 0. 0. 0. 0. 0. 0. 0.]\n",
      " [0. 0. 0. 0. 0. 2. 0. 0. 0.]\n",
      " [0. 0. 0. 0. 0. 0. 0. 0. 0.]\n",
      " [0. 0. 0. 0. 0. 0. 0. 0. 0.]]\n",
      "(2, 0) (2, 1)\n",
      "[[0. 0. 0. 0. 0. 0. 0. 0. 0.]\n",
      " [0. 0. 0. 0. 0. 0. 0. 0. 0.]\n",
      " [0. 0. 0. 0. 0. 0. 0. 0. 0.]\n",
      " [0. 0. 0. 0. 0. 0. 0. 0. 0.]\n",
      " [0. 0. 0. 0. 0. 0. 0. 0. 0.]\n",
      " [0. 0. 0. 0. 0. 0. 0. 0. 0.]\n",
      " [0. 0. 0. 0. 2. 1. 0. 0. 0.]\n",
      " [0. 0. 0. 0. 0. 0. 0. 0. 0.]\n",
      " [0. 0. 0. 0. 0. 0. 0. 0. 0.]]\n",
      "(3, 0) (2, 1)\n",
      "[[0. 0. 0. 0. 0. 0. 0. 0. 0.]\n",
      " [0. 0. 0. 0. 0. 0. 0. 0. 0.]\n",
      " [0. 0. 0. 0. 0. 0. 0. 0. 0.]\n",
      " [0. 0. 0. 0. 0. 0. 0. 0. 0.]\n",
      " [0. 0. 0. 0. 0. 0. 0. 0. 0.]\n",
      " [0. 0. 0. 0. 0. 0. 0. 0. 0.]\n",
      " [0. 0. 0. 0. 0. 1. 0. 0. 0.]\n",
      " [0. 0. 0. 0. 2. 0. 0. 0. 0.]\n",
      " [0. 0. 0. 0. 0. 0. 0. 0. 0.]]\n",
      "(4, 0) (3, 0)\n",
      "[[0. 0. 0. 0. 0. 0. 0. 0. 0.]\n",
      " [0. 0. 0. 0. 0. 0. 0. 0. 0.]\n",
      " [0. 0. 0. 0. 0. 0. 0. 0. 0.]\n",
      " [0. 0. 0. 0. 0. 0. 0. 0. 0.]\n",
      " [0. 0. 0. 0. 0. 0. 0. 0. 0.]\n",
      " [0. 0. 0. 0. 0. 0. 0. 0. 0.]\n",
      " [0. 0. 0. 0. 0. 0. 0. 0. 0.]\n",
      " [0. 0. 0. 0. 1. 0. 0. 0. 0.]\n",
      " [0. 0. 0. 0. 2. 0. 0. 0. 0.]]\n",
      "(4, -1) (3, 0)\n",
      "[[0. 0. 0. 0. 0. 0. 0. 0. 0.]\n",
      " [0. 0. 0. 0. 0. 0. 0. 0. 0.]\n",
      " [0. 0. 0. 0. 0. 0. 0. 0. 0.]\n",
      " [0. 0. 0. 0. 0. 0. 0. 0. 0.]\n",
      " [0. 0. 0. 0. 0. 0. 0. 0. 0.]\n",
      " [0. 0. 0. 0. 0. 0. 0. 0. 0.]\n",
      " [0. 0. 0. 0. 0. 0. 0. 0. 0.]\n",
      " [0. 0. 0. 0. 1. 0. 0. 0. 0.]\n",
      " [0. 0. 0. 2. 0. 0. 0. 0. 0.]]\n"
     ]
    },
    {
     "ename": "IndexError",
     "evalue": "index 9 is out of bounds for axis 0 with size 9",
     "output_type": "error",
     "traceback": [
      "\u001b[0;31m---------------------------------------------------------------------------\u001b[0m",
      "\u001b[0;31mIndexError\u001b[0m                                Traceback (most recent call last)",
      "\u001b[1;32m/Users/laurence/code/advent-of-code/2022/2022.ipynb Cell 49\u001b[0m in \u001b[0;36m<cell line: 3>\u001b[0;34m()\u001b[0m\n\u001b[1;32m      <a href='vscode-notebook-cell:/Users/laurence/code/advent-of-code/2022/2022.ipynb#Y151sZmlsZQ%3D%3D?line=3'>4</a>\u001b[0m grid \u001b[39m=\u001b[39m np\u001b[39m.\u001b[39mzeros((\u001b[39m9\u001b[39m, \u001b[39m9\u001b[39m))\n\u001b[1;32m      <a href='vscode-notebook-cell:/Users/laurence/code/advent-of-code/2022/2022.ipynb#Y151sZmlsZQ%3D%3D?line=4'>5</a>\u001b[0m grid[T[\u001b[39m0\u001b[39m] \u001b[39m+\u001b[39m \u001b[39m4\u001b[39m, T[\u001b[39m1\u001b[39m] \u001b[39m+\u001b[39m \u001b[39m4\u001b[39m] \u001b[39m=\u001b[39m \u001b[39m1\u001b[39m\n\u001b[0;32m----> <a href='vscode-notebook-cell:/Users/laurence/code/advent-of-code/2022/2022.ipynb#Y151sZmlsZQ%3D%3D?line=5'>6</a>\u001b[0m grid[H[\u001b[39m0\u001b[39;49m] \u001b[39m+\u001b[39;49m \u001b[39m4\u001b[39;49m, H[\u001b[39m1\u001b[39;49m] \u001b[39m+\u001b[39;49m \u001b[39m4\u001b[39;49m] \u001b[39m=\u001b[39m \u001b[39m2\u001b[39m\n\u001b[1;32m      <a href='vscode-notebook-cell:/Users/laurence/code/advent-of-code/2022/2022.ipynb#Y151sZmlsZQ%3D%3D?line=6'>7</a>\u001b[0m \u001b[39mprint\u001b[39m(H, T)\n\u001b[1;32m      <a href='vscode-notebook-cell:/Users/laurence/code/advent-of-code/2022/2022.ipynb#Y151sZmlsZQ%3D%3D?line=7'>8</a>\u001b[0m \u001b[39mprint\u001b[39m(grid)\n",
      "\u001b[0;31mIndexError\u001b[0m: index 9 is out of bounds for axis 0 with size 9"
     ]
    }
   ],
   "source": [
    "# visualise for debugging\n",
    "\n",
    "for H,T in zip(H_path[:30], T_path[:30]):    \n",
    "    grid = np.zeros((9, 9))\n",
    "    grid[T[0] + 4, T[1] + 4] = 1\n",
    "    grid[H[0] + 4, H[1] + 4] = 2\n",
    "    print(H, T)\n",
    "    print(grid)\n"
   ]
  },
  {
   "cell_type": "markdown",
   "metadata": {},
   "source": [
    "## D10"
   ]
  },
  {
   "cell_type": "code",
   "execution_count": 645,
   "metadata": {},
   "outputs": [],
   "source": [
    "data = get_data('d10')\n",
    "monkeys = [data[i:i+7] for i in range(0,len(data),7)]\n",
    "# monkeys\n"
   ]
  },
  {
   "cell_type": "code",
   "execution_count": 646,
   "metadata": {},
   "outputs": [],
   "source": [
    "processed = [\n",
    "    [0, [57], [\"*\", 13] , 11, [3,2]],\n",
    "    [1, [58, 93, 88, 81, 72, 73, 65], [\"+\", 2] , 7, [6,7]],\n",
    "    [2, [65, 95], [\"+\", 6] , 13, [3,5]],\n",
    "    [3, [58, 80, 81, 83], [\"*\", \"old\"] , 5, [4,5]],\n",
    "    [4, [58, 89, 90, 96, 55], [\"+\", 3] , 3, [1,7]],\n",
    "    [5, [66, 73, 87, 58, 62, 67], [\"*\", 7] , 17, [4,1]],\n",
    "    [6, [85, 55, 89], [\"+\", 4] , 2, [2,0]],\n",
    "    [7, [73, 80, 54, 94, 90, 52, 69, 58], [\"+\", 7] , 19, [6,0]]\n",
    "]"
   ]
  },
  {
   "cell_type": "code",
   "execution_count": 647,
   "metadata": {},
   "outputs": [],
   "source": [
    "# operation shows how your worry level changes when monkey inspects the item\n",
    "# before monkey testing, your worry level divides by 3 and rounds down\n",
    "\n",
    "class Monkey():\n",
    "    def __init__(self, number, starting_items, operation, test, possible_monkey_recipients):\n",
    "        self.number = number\n",
    "        self.starting_items = starting_items\n",
    "        self.current_items = starting_items\n",
    "        self.operation = operation\n",
    "        self.test = test\n",
    "        self.possible_monkey_recipients = possible_monkey_recipients\n",
    "        self.inspected = 0\n",
    "\n",
    "    def __repr__(self):\n",
    "        return f\"{self.number}: {self.inspected}\"\n",
    "\n",
    "    def __len__(self):\n",
    "        return len(self.current_items)\n",
    "    \n",
    "    def name(self):\n",
    "        return self.number\n",
    "\n",
    "    def do_operation(self, worry_level):\n",
    "        operation = self.operation\n",
    "        # print(f\"Monkey {self.number} operation: {operation}\")\n",
    "        if operation[1] == \"old\":\n",
    "            return worry_level * worry_level\n",
    "        if operation[0] == \"*\":\n",
    "            return worry_level * operation[1]\n",
    "        elif operation[0] == \"+\":\n",
    "            return worry_level + operation[1]\n",
    "\n",
    "    \n",
    "    def do_test(self, worry_level):\n",
    "        # print(f\"Monkey {self.number} test: {self.test}\")\n",
    "        if worry_level % self.test == 0:\n",
    "            return self.possible_monkey_recipients[0]\n",
    "        else:\n",
    "            return self.possible_monkey_recipients[1]\n",
    "        \n",
    "\n",
    "    def inspect(self, item):\n",
    "        # apply operation\n",
    "        # print(f\"Monkey {self.number} inspects item {item}...\")\n",
    "        worry_level = item\n",
    "        worry_level = self.do_operation(worry_level)\n",
    "        # worry_level = worry_level // 3 # p2 strike out\n",
    "        monkey_recipient = self.do_test(worry_level)\n",
    "        # print(f\"Monkey {self.number} throws item {item} to monkey {monkey_recipient}\")\n",
    "        self.inspected += 1\n",
    "        return monkey_recipient, worry_level\n"
   ]
  },
  {
   "cell_type": "code",
   "execution_count": 615,
   "metadata": {},
   "outputs": [],
   "source": [
    "# testing\n",
    "test_monkeys = [\n",
    "    [0 ,[79, 98],[\"*\", 19], 23, [2,3]],\n",
    "    [1 ,[54, 65, 75, 74],[\"+\", 6], 19, [2,0]],\n",
    "    [2 ,[79, 60, 97],[\"*\", \"old\"], 13, [1,3]],\n",
    "    [3 ,[74],[\"+\", 3], 17, [0,1]]\n",
    "]\n",
    "\n",
    "test_monkeys = monkeys = [Monkey(*monkey) for monkey in test_monkeys]\n",
    "\n",
    "for round in range(20):\n",
    "    for monkey in test_monkeys:\n",
    "        # print(monkey)\n",
    "        for item in monkey.current_items:\n",
    "            receipient, worry_level = monkey.inspect(item)\n",
    "            monkeys[receipient].current_items.append(worry_level)\n",
    "        monkey.current_items = []\n",
    "        # print(\"------------- Next Monkey --------------\")\n",
    "    # print(f\"Round {round} complete\")\n",
    "\n",
    "# Answers\n",
    "# Monkey 0 inspected items 101 times.\n",
    "# Monkey 1 inspected items 95 times.\n",
    "# Monkey 2 inspected items 7 times.\n",
    "# Monkey 3 inspected items 105 times.\n",
    "\n",
    "# print(monkeys)"
   ]
  },
  {
   "cell_type": "code",
   "execution_count": 648,
   "metadata": {},
   "outputs": [
    {
     "name": "stderr",
     "output_type": "stream",
     "text": [
      "100%|██████████| 10000/10000 [00:00<00:00, 26492.72it/s]"
     ]
    },
    {
     "name": "stdout",
     "output_type": "stream",
     "text": [
      "[0: 165766, 1: 161105, 2: 159985, 3: 9209, 4: 18375, 5: 166922, 6: 13590, 7: 169205]\n"
     ]
    },
    {
     "name": "stderr",
     "output_type": "stream",
     "text": [
      "\n"
     ]
    }
   ],
   "source": [
    "from tqdm import tqdm\n",
    "\n",
    "monkeys = [Monkey(*monkey) for monkey in processed]\n",
    "# print(monkeys)\n",
    "\n",
    "# part 1 range 20, part 2 range 10_000 \n",
    "def run_simulation(monkeys):\n",
    "    for round in tqdm(range(10_000)):\n",
    "        for monkey in monkeys:\n",
    "            # print(monkey)\n",
    "            for item in monkey.current_items:\n",
    "                receipient, worry_level = monkey.inspect(item)\n",
    "                worry_level =  worry_level % 9699690\n",
    "\n",
    "                monkeys[receipient].current_items.append(worry_level)\n",
    "            monkey.current_items = []\n",
    "            # print(\"------------- Next Monkey --------------\")\n",
    "        # print(f\"Round {round} complete\")\n",
    "    print(monkeys)\n",
    "\n",
    "run_simulation(monkeys)\n",
    "\n",
    "# use cProfile to see what is happening\n",
    "# import cProfile\n",
    "# cProfile.run('run_simulation(monkeys)')\n",
    "# see that do_operation is growing fastest, followed by do_test\n",
    "\n"
   ]
  },
  {
   "cell_type": "code",
   "execution_count": 649,
   "metadata": {},
   "outputs": [
    {
     "data": {
      "text/plain": [
       "28244037010"
      ]
     },
     "execution_count": 649,
     "metadata": {},
     "output_type": "execute_result"
    }
   ],
   "source": [
    "counts = sorted([m.inspected for m in monkeys], reverse=True)[:2]\n",
    "counts[0] * counts[1]\n",
    "\n",
    "# P1 121450\n",
    "# p2 28244037010"
   ]
  },
  {
   "cell_type": "markdown",
   "metadata": {},
   "source": [
    "## D11"
   ]
  },
  {
   "cell_type": "code",
   "execution_count": 18,
   "metadata": {},
   "outputs": [
    {
     "name": "stdout",
     "output_type": "stream",
     "text": [
      "Grid of 101 by 41\n"
     ]
    }
   ],
   "source": [
    "# input is a grid\n",
    "# starting location is S with elevation a, ending location is E with elevation z\n",
    "# a is lowest elevation, z is highest\n",
    "# You can transverse at most 1 elevation unit up at a time, but unlimited down, so a -> b, but not a -> c, but d -> a is ok\n",
    "\n",
    "#  So the grid is a weighted graph and we should use dijkstra's algorithm\n",
    "# https://en.wikipedia.org/wiki/Dijkstra%27s_algorithm\n",
    "\n",
    "data = get_data('d11')\n",
    "\n",
    "print(f\"Grid of {len(data[0])} by {len(data)}\")\n",
    "\n"
   ]
  },
  {
   "cell_type": "code",
   "execution_count": 56,
   "metadata": {},
   "outputs": [],
   "source": [
    "def create_path_grid(data):\n",
    "    path_grid = []\n",
    "    mapping = {\"S\": \"S\", \"E\": \"E\"}\n",
    "    for row in data:\n",
    "        path_grid.append([mapping[c] if c in mapping else \".\" for c in row ])\n",
    "    return path_grid\n",
    "\n",
    "def visualise_path_grid(path_grid):    \n",
    "    with open('d11_path.txt', 'w') as f:\n",
    "        for line in path_grid:\n",
    "            f.write(\"\".join(line) + \"\\n\")\n",
    "\n",
    "path_grid = create_path_grid(data)\n",
    "visualise_path_grid(path_grid)"
   ]
  },
  {
   "attachments": {},
   "cell_type": "markdown",
   "metadata": {},
   "source": [
    "## D24"
   ]
  },
  {
   "cell_type": "markdown",
   "metadata": {},
   "source": []
  }
 ],
 "metadata": {
  "kernelspec": {
   "display_name": "Python 3 (ipykernel)",
   "language": "python",
   "name": "python3"
  },
  "language_info": {
   "codemirror_mode": {
    "name": "ipython",
    "version": 3
   },
   "file_extension": ".py",
   "mimetype": "text/x-python",
   "name": "python",
   "nbconvert_exporter": "python",
   "pygments_lexer": "ipython3",
   "version": "3.11.2"
  },
  "vscode": {
   "interpreter": {
    "hash": "e24dd9315d47c6324453c6322b0e37e6b4e434943da3bbec74bee1d56e9a00f4"
   }
  }
 },
 "nbformat": 4,
 "nbformat_minor": 4
}
