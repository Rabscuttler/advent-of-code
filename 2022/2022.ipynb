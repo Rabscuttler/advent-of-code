{
 "cells": [
  {
   "cell_type": "code",
   "execution_count": 1,
   "metadata": {},
   "outputs": [],
   "source": [
    "# utilities\n",
    "\n",
    "def get_data(day):\n",
    "    # e.g. get_data(d1)\n",
    "    with open(f'data/{day}.txt') as f:\n",
    "        lines = f.read().splitlines()\n",
    "    return lines"
   ]
  },
  {
   "cell_type": "markdown",
   "metadata": {},
   "source": [
    "## D1\n",
    "Input data are lines representing calories of food items, carried by each elf.  \n",
    "Next elf is demarcated by a blank line.  \n"
   ]
  },
  {
   "cell_type": "code",
   "execution_count": 4,
   "metadata": {},
   "outputs": [],
   "source": [
    "lines = get_data('d1')"
   ]
  },
  {
   "cell_type": "code",
   "execution_count": 6,
   "metadata": {},
   "outputs": [
    {
     "name": "stdout",
     "output_type": "stream",
     "text": [
      "68802\n"
     ]
    }
   ],
   "source": [
    "# Part 1: Find the elf with the highest total of calories\n",
    "max_elf_calories = 0\n",
    "calorie_count = 0 \n",
    "\n",
    "for line in lines:\n",
    "    if line:\n",
    "        calorie_count += int(line)\n",
    "    else:\n",
    "        max_elf_calories = max(max_elf_calories, calorie_count)\n",
    "        calorie_count = 0\n",
    "print(max_elf_calories)\n",
    "    "
   ]
  },
  {
   "cell_type": "code",
   "execution_count": 17,
   "metadata": {},
   "outputs": [
    {
     "name": "stdout",
     "output_type": "stream",
     "text": [
      "[67860, 68708, 68802]\n",
      "205370\n"
     ]
    }
   ],
   "source": [
    "# Part 2: Find the total of the top 3 elves calories\n",
    "all_elves_calories = []\n",
    "calorie_count = 0 \n",
    "\n",
    "for line in lines:\n",
    "    if line:\n",
    "        calorie_count += int(line)\n",
    "    else:\n",
    "        all_elves_calories.append(calorie_count)\n",
    "        calorie_count = 0\n",
    "print(sorted(all_elves_calories)[-3:])\n",
    "print(sum(sorted(all_elves_calories)[-3:]))"
   ]
  },
  {
   "cell_type": "markdown",
   "metadata": {},
   "source": [
    "## D2\n",
    "Play rock paper scissors against the elves with a preset strategy (cheat guide)"
   ]
  },
  {
   "cell_type": "code",
   "execution_count": 14,
   "metadata": {},
   "outputs": [
    {
     "data": {
      "text/plain": [
       "12772"
      ]
     },
     "execution_count": 14,
     "metadata": {},
     "output_type": "execute_result"
    }
   ],
   "source": [
    "# loss = 0, draw = 3, win = 6\n",
    "# scores for RPS rock = 1, paper = 2, scissors = 3\n",
    "# Rock Paper Scissors ABC (opponent) XYZ (you)\n",
    "# rock > paper > scissors > rock\n",
    "\n",
    "data = get_data('d2')\n",
    "\n",
    "# create a linked list of rock paper scissors\n",
    "def linked_list()\n",
    "\n",
    "\n",
    "match = {\"A\": \"X\", \"B\": \"Y\", \"C\": \"Z\"}\n",
    "score = 0\n",
    "\n",
    "for line in data: \n",
    "    elf, you = line.split()\n",
    "    if you == \"X\": \n",
    "        score += 1\n",
    "    elif you == \"Y\": \n",
    "        score += 2\n",
    "    elif you == \"Z\":\n",
    "        score += 3\n",
    "    if match[elf] == you: # draw\n",
    "        score += 3\n",
    "    elif match[elf] == \"X\" and you == \"Y\": # win\n",
    "        score += 6\n",
    "    elif match[elf] == \"Y\" and you == \"Z\": # win\n",
    "        score += 6\n",
    "    elif match[elf] == \"Z\" and you == \"X\": # win\n",
    "        score += 6\n",
    "    # ignore losses\n",
    "score\n",
    "    "
   ]
  },
  {
   "cell_type": "code",
   "execution_count": 45,
   "metadata": {},
   "outputs": [
    {
     "data": {
      "text/plain": [
       "11618"
      ]
     },
     "execution_count": 45,
     "metadata": {},
     "output_type": "execute_result"
    }
   ],
   "source": [
    "# Part 2\n",
    "# \"Anyway, the second column says how the round needs to end: X means you need to lose, Y means you need to end the round in a draw, and Z means you need to win. Good luck!\"\n",
    "dict = {\"AX\": 3, \"AY\": 1 + 3, \"AZ\": 2 + 6, \"BX\": 1, \"BY\": 2 + 3, \"BZ\": 3 + 6, \"CX\": 2, \"CY\": 3 + 3, \"CZ\": 1 + 6}\n",
    "\n",
    "score = 0\n",
    "for line in data:\n",
    "    score += dict[line.replace(\" \", \"\")]\n",
    "score"
   ]
  },
  {
   "cell_type": "markdown",
   "metadata": {},
   "source": [
    "## D3\n",
    "Rearrange items in elves rucksacks. Each rucksack has 2 compartments. All items of the same type must go in the same compartment.  \n",
    "Each char represents an item (upper and lower are different).  \n",
    "Compartments same size, so first half of line is c1, send is c2\n",
    "\n",
    "Item priority a-z, A-Z\n",
    "What is sum of priorities of items that appear in both compartments\n"
   ]
  },
  {
   "cell_type": "code",
   "execution_count": null,
   "metadata": {},
   "outputs": [],
   "source": [
    "bags = get_data('d3')"
   ]
  },
  {
   "cell_type": "code",
   "execution_count": 78,
   "metadata": {},
   "outputs": [
    {
     "data": {
      "text/plain": [
       "8176"
      ]
     },
     "execution_count": 78,
     "metadata": {},
     "output_type": "execute_result"
    }
   ],
   "source": [
    "score = 0\n",
    "for bag in bags:\n",
    "    # split bag in half\n",
    "    c1 = bag[:len(bag)//2]\n",
    "    c2 = bag[len(bag)//2:]\n",
    "    s = list(set(c1).intersection(set(c2)))[0]\n",
    "    if s.isupper():\n",
    "        score += ord(s)-64+26\n",
    "    else:\n",
    "        score += ord(s)-96\n",
    "score\n"
   ]
  },
  {
   "cell_type": "code",
   "execution_count": 82,
   "metadata": {},
   "outputs": [
    {
     "data": {
      "text/plain": [
       "2689"
      ]
     },
     "execution_count": 82,
     "metadata": {},
     "output_type": "execute_result"
    }
   ],
   "source": [
    "# part 2\n",
    "# split bags into groups of 3, find common item type and sum priorities\n",
    "score = 0 \n",
    "for i in range(0, len(bags), 3):\n",
    "    b1, b2, b3 = bags[i:i+3]\n",
    "    s = list(set(b1).intersection(set(b2), set(b3)))[0]\n",
    "    if s.isupper():\n",
    "        score += ord(s)-64+26\n",
    "    else:\n",
    "        score += ord(s)-96\n",
    "score"
   ]
  },
  {
   "cell_type": "markdown",
   "metadata": {},
   "source": [
    "## D4\n",
    "How many sections fully contain the other"
   ]
  },
  {
   "cell_type": "code",
   "execution_count": 58,
   "metadata": {},
   "outputs": [
    {
     "data": {
      "text/plain": [
       "[[98, 99], [3, 97]]"
      ]
     },
     "execution_count": 58,
     "metadata": {},
     "output_type": "execute_result"
    }
   ],
   "source": [
    "sections = get_data(\"d4\")\n",
    "sections = [[list(map(int,x.split('-'))) for x in y.split(',')] for y in sections]\n",
    "sections[0] "
   ]
  },
  {
   "cell_type": "code",
   "execution_count": 59,
   "metadata": {},
   "outputs": [
    {
     "data": {
      "text/plain": [
       "459"
      ]
     },
     "execution_count": 59,
     "metadata": {},
     "output_type": "execute_result"
    }
   ],
   "source": [
    "# [1,10], [2,3]\n",
    "\n",
    "count = 0\n",
    "for section in sections:\n",
    "    if (section[0][0] <= section[1][0]) and (section[0][1] >= section[1][1]):\n",
    "        count += 1 # section 1 contains section 2\n",
    "        continue # avoid double counting\n",
    "    elif section[1][0] <= section[0][0] and section[1][1] >= section[0][1]:\n",
    "        count += 1 # section 2 contains section 1\n",
    "        continue\n",
    "count"
   ]
  },
  {
   "cell_type": "code",
   "execution_count": 60,
   "metadata": {},
   "outputs": [
    {
     "data": {
      "text/plain": [
       "779"
      ]
     },
     "execution_count": 60,
     "metadata": {},
     "output_type": "execute_result"
    }
   ],
   "source": [
    "# [1,10], [2,3]\n",
    "# part 2 \n",
    "# how many pairs overlap\n",
    "count = 0\n",
    "for section in sections:\n",
    "    # check if section 1 is below section 2\n",
    "    if section[0][0] < section[1][0] and section[0][1] < section[1][0]:\n",
    "        continue\n",
    "    # check if section 1 is above section 2\n",
    "    elif section[0][0] > section[1][1] and section[0][1] > section[1][1]:\n",
    "        continue\n",
    "    else:\n",
    "        count+=1\n",
    "count"
   ]
  },
  {
   "cell_type": "markdown",
   "metadata": {},
   "source": [
    "Expanding the ranges and using set intersections could have been interesting"
   ]
  },
  {
   "cell_type": "markdown",
   "metadata": {},
   "source": [
    "## d5"
   ]
  },
  {
   "cell_type": "code",
   "execution_count": 119,
   "metadata": {},
   "outputs": [
    {
     "data": {
      "text/plain": [
       "[[4, 3], [4, 3], [4, 3], [4, 3], [4, 3]]"
      ]
     },
     "execution_count": 119,
     "metadata": {},
     "output_type": "execute_result"
    }
   ],
   "source": [
    "data = get_data('d5')\n",
    "start = data[:9]\n",
    "moves = data[10:]\n",
    "\n",
    "# turn into pairs of operations, expanding the repetitions\n",
    "input = [list(map(int, m.replace('move ', '').replace(' from ', ',').replace(' to ', ',').split(','))) for m in moves]\n",
    "input[0][0] * [[input[0][1], input[0][2]]]\n",
    "movelist = []\n",
    "for i in input:\n",
    "    movelist.extend((i[0] * [[i[1], i[2]]]))\n",
    "movelist[:5]"
   ]
  },
  {
   "cell_type": "code",
   "execution_count": 122,
   "metadata": {},
   "outputs": [
    {
     "data": {
      "text/plain": [
       "['[F]         [L]     [M]            ',\n",
       " '[T]     [H] [V] [G] [V]            ',\n",
       " '[N]     [T] [D] [R] [N]     [D]    ',\n",
       " '[Z]     [B] [C] [P] [B] [R] [Z]    ',\n",
       " '[M]     [J] [N] [M] [F] [M] [V] [H]',\n",
       " '[G] [J] [L] [J] [S] [C] [G] [M] [F]',\n",
       " '[H] [W] [V] [P] [W] [H] [H] [N] [N]',\n",
       " '[J] [V] [G] [B] [F] [G] [D] [H] [G]',\n",
       " ' 1   2   3   4   5   6   7   8   9 ']"
      ]
     },
     "execution_count": 122,
     "metadata": {},
     "output_type": "execute_result"
    }
   ],
   "source": [
    "start"
   ]
  },
  {
   "cell_type": "code",
   "execution_count": 123,
   "metadata": {},
   "outputs": [
    {
     "data": {
      "text/plain": [
       "['FTNZMGHJ',\n",
       " 'JWV',\n",
       " 'HTBJLVG',\n",
       " 'LVDCNJPB',\n",
       " 'GRPMSWF',\n",
       " 'MVNBFCHG',\n",
       " 'RMGHD',\n",
       " 'DZVMNH',\n",
       " 'HFNG']"
      ]
     },
     "execution_count": 123,
     "metadata": {},
     "output_type": "execute_result"
    }
   ],
   "source": [
    "# turn crates into list of lists\n",
    "crates = [''] * 9\n",
    "for row in start[:-1]: # skip last row\n",
    "    for i in range(0, 9):\n",
    "        # want 2, 7, 12, 17 etc\n",
    "        # 0, 1, 2, 3,\n",
    "        crates[i] += row[4*i+1]\n",
    "crates = [x.strip() for x in crates]\n",
    "crates"
   ]
  },
  {
   "cell_type": "code",
   "execution_count": 106,
   "metadata": {},
   "outputs": [
    {
     "data": {
      "text/plain": [
       "['T',\n",
       " 'DPHJNGC',\n",
       " 'CNBPVGLDSRRMMHZNLJVWMGFHNGHVGM',\n",
       " 'HFN',\n",
       " 'VBFWJZDM',\n",
       " 'HB',\n",
       " 'J',\n",
       " 'TFV',\n",
       " 'G']"
      ]
     },
     "execution_count": 106,
     "metadata": {},
     "output_type": "execute_result"
    }
   ],
   "source": [
    "for move in movelist:\n",
    "    # print(move)\n",
    "    # print(crates[move[0]-1], crates[move[1]-1])\n",
    "    crates[move[1]-1] = (crates[move[0]-1][0]) + crates[move[1]-1]\n",
    "    crates[move[0]-1] = crates[move[0]-1][1:]\n",
    "    # print(crates[move[0]-1], crates[move[1]-1])\n",
    "crates"
   ]
  },
  {
   "cell_type": "code",
   "execution_count": 111,
   "metadata": {},
   "outputs": [
    {
     "data": {
      "text/plain": [
       "'TDCHVHJTG'"
      ]
     },
     "execution_count": 111,
     "metadata": {},
     "output_type": "execute_result"
    }
   ],
   "source": [
    "answer = ''\n",
    "for x in crates:\n",
    "    answer += x[0]\n",
    "answer"
   ]
  },
  {
   "cell_type": "code",
   "execution_count": 140,
   "metadata": {},
   "outputs": [
    {
     "data": {
      "text/plain": [
       "[[6, 4, 3], [5, 8, 9], [1, 4, 5], [1, 4, 5], [2, 2, 7]]"
      ]
     },
     "execution_count": 140,
     "metadata": {},
     "output_type": "execute_result"
    }
   ],
   "source": [
    "# part 2\n",
    "# my decision to expand each moves into 1 operation per crate was a bad idea\n",
    "data = get_data('d5')\n",
    "start = data[:9]\n",
    "moves = data[10:]\n",
    "\n",
    "input = [list(map(int, m.replace('move ', '').replace(' from ', ',').replace(' to ', ',').split(','))) for m in moves]\n",
    "input[:5]"
   ]
  },
  {
   "cell_type": "code",
   "execution_count": 141,
   "metadata": {},
   "outputs": [
    {
     "data": {
      "text/plain": [
       "['FTNZMGHJ',\n",
       " 'JWV',\n",
       " 'HTBJLVG',\n",
       " 'LVDCNJPB',\n",
       " 'GRPMSWF',\n",
       " 'MVNBFCHG',\n",
       " 'RMGHD',\n",
       " 'DZVMNH',\n",
       " 'HFNG']"
      ]
     },
     "execution_count": 141,
     "metadata": {},
     "output_type": "execute_result"
    }
   ],
   "source": [
    "# turn crates into list of lists\n",
    "crates = [''] * 9\n",
    "for row in start[:-1]: # skip last row\n",
    "    for i in range(0, 9):\n",
    "        # want 2, 7, 12, 17 etc\n",
    "        # 0, 1, 2, 3,\n",
    "        crates[i] += row[4*i+1]\n",
    "crates = [x.strip() for x in crates]\n",
    "crates"
   ]
  },
  {
   "cell_type": "code",
   "execution_count": 142,
   "metadata": {},
   "outputs": [
    {
     "data": {
      "text/plain": [
       "['[F]         [L]     [M]            ',\n",
       " '[T]     [H] [V] [G] [V]            ',\n",
       " '[N]     [T] [D] [R] [N]     [D]    ',\n",
       " '[Z]     [B] [C] [P] [B] [R] [Z]    ',\n",
       " '[M]     [J] [N] [M] [F] [M] [V] [H]',\n",
       " '[G] [J] [L] [J] [S] [C] [G] [M] [F]',\n",
       " '[H] [W] [V] [P] [W] [H] [H] [N] [N]',\n",
       " '[J] [V] [G] [B] [F] [G] [D] [H] [G]',\n",
       " ' 1   2   3   4   5   6   7   8   9 ']"
      ]
     },
     "execution_count": 142,
     "metadata": {},
     "output_type": "execute_result"
    }
   ],
   "source": [
    "start"
   ]
  },
  {
   "cell_type": "code",
   "execution_count": 143,
   "metadata": {},
   "outputs": [
    {
     "data": {
      "text/plain": [
       "['N',\n",
       " 'GGGGMRV',\n",
       " 'CNWBJHLJZRZNBCVPFVNNVHFTGBMWDD',\n",
       " 'MSH',\n",
       " 'PHFJGTMH',\n",
       " 'JM',\n",
       " 'L',\n",
       " 'HFD',\n",
       " 'V']"
      ]
     },
     "execution_count": 143,
     "metadata": {},
     "output_type": "execute_result"
    }
   ],
   "source": [
    "# for each move in input, n, a, b, move n crates from a to b\n",
    "for move in input:\n",
    "    # print(move)\n",
    "    # print(crates)\n",
    "    crates[move[2]-1] = (crates[move[1]-1][0:move[0]]) + crates[move[2]-1]\n",
    "    crates[move[1]-1] = crates[move[1]-1][move[0]:]\n",
    "    # print(crates)\n",
    "crates"
   ]
  },
  {
   "cell_type": "code",
   "execution_count": 144,
   "metadata": {},
   "outputs": [
    {
     "data": {
      "text/plain": [
       "'NGCMPJLHV'"
      ]
     },
     "execution_count": 144,
     "metadata": {},
     "output_type": "execute_result"
    }
   ],
   "source": [
    "answer = ''\n",
    "for x in crates:\n",
    "    answer += x[0]\n",
    "answer"
   ]
  },
  {
   "cell_type": "code",
   "execution_count": null,
   "metadata": {},
   "outputs": [],
   "source": []
  }
 ],
 "metadata": {
  "kernelspec": {
   "display_name": "Python 3.10.6 ('data-science')",
   "language": "python",
   "name": "python3"
  },
  "language_info": {
   "codemirror_mode": {
    "name": "ipython",
    "version": 3
   },
   "file_extension": ".py",
   "mimetype": "text/x-python",
   "name": "python",
   "nbconvert_exporter": "python",
   "pygments_lexer": "ipython3",
   "version": "3.10.6"
  },
  "orig_nbformat": 4,
  "vscode": {
   "interpreter": {
    "hash": "e24dd9315d47c6324453c6322b0e37e6b4e434943da3bbec74bee1d56e9a00f4"
   }
  }
 },
 "nbformat": 4,
 "nbformat_minor": 2
}
