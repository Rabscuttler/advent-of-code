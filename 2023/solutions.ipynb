{
 "cells": [
  {
   "cell_type": "markdown",
   "id": "8e221002-c0d7-460c-ba78-56413d6b6c9b",
   "metadata": {},
   "source": [
    "# Utilities"
   ]
  },
  {
   "cell_type": "code",
   "execution_count": 2,
   "id": "58298772-bd58-4a3c-8040-556a0cc8a62c",
   "metadata": {},
   "outputs": [],
   "source": [
    "def get_data(day):\n",
    "    # e.g. get_data(d1)\n",
    "    with open(f'data/{day}.txt') as f:\n",
    "        lines = f.read().splitlines()\n",
    "    return lines"
   ]
  },
  {
   "cell_type": "markdown",
   "id": "5b3e875a-e3f8-4602-962b-dfddde980a52",
   "metadata": {},
   "source": [
    "# D1"
   ]
  },
  {
   "cell_type": "code",
   "execution_count": 9,
   "id": "96fee6f4-dc22-4779-a0df-baf2f66eb777",
   "metadata": {},
   "outputs": [],
   "source": [
    "# test\n",
    "test_data = [\"1abc2\", \"pqr3stu8vwx\", \"a1b2c3d4e5f\", \"treb7uchet\"]\n",
    "test_answer = 142"
   ]
  },
  {
   "cell_type": "code",
   "execution_count": 5,
   "id": "352ddc86-6595-4531-aa05-432ebecb171b",
   "metadata": {},
   "outputs": [],
   "source": [
    "data = get_data(\"d1\")"
   ]
  },
  {
   "cell_type": "code",
   "execution_count": 19,
   "id": "5a954870-24e1-4d18-aa78-3553adcbd833",
   "metadata": {},
   "outputs": [
    {
     "data": {
      "text/plain": [
       "['eight9fhstbssrplmdlncmmqqnklb39ninejz',\n",
       " 'three656',\n",
       " 'ppjvndvknbtpfsncplmhhrlh5',\n",
       " '7fjqhrhsevenlbtwoninevnmct2',\n",
       " 'qjnbpfrztwo1']"
      ]
     },
     "execution_count": 19,
     "metadata": {},
     "output_type": "execute_result"
    }
   ],
   "source": [
    "data[:5]"
   ]
  },
  {
   "cell_type": "code",
   "execution_count": 24,
   "id": "124a7c4c-420e-41fb-952a-ffea866f87d2",
   "metadata": {},
   "outputs": [
    {
     "data": {
      "text/plain": [
       "['eight9fhstbssrplmdlncmmqqnklb39ninejz',\n",
       " 'three656',\n",
       " 'ppjvndvknbtpfsncplmhhrlh5',\n",
       " '7fjqhrhsevenlbtwoninevnmct2',\n",
       " 'qjnbpfrztwo1']"
      ]
     },
     "execution_count": 24,
     "metadata": {},
     "output_type": "execute_result"
    }
   ],
   "source": [
    "data[:5]"
   ]
  },
  {
   "cell_type": "code",
   "execution_count": 35,
   "id": "9d702e04-44ff-41cf-a242-f3b22b95ebad",
   "metadata": {},
   "outputs": [],
   "source": [
    "def solution(data):\n",
    "    \"\"\"Find the first digit and last digit and combine then into a number, then sum over all lines\n",
    "    E.g. 'eight9fhstbssrplmdlncmmqqnklb39ninejz' is 99\n",
    "    \"\"\"\n",
    "    total = 0\n",
    "    for s in data:\n",
    "        first_num = 0\n",
    "        last_num = 0\n",
    "        for char in s:\n",
    "            try:\n",
    "                first_num = int(char)\n",
    "                break\n",
    "            except:\n",
    "                continue\n",
    "        for char in s[::-1]:\n",
    "            try:\n",
    "                last_num = int(char)\n",
    "                break\n",
    "            except:\n",
    "                continue\n",
    "        total += first_num*10 + last_num\n",
    "    print(total)"
   ]
  },
  {
   "cell_type": "code",
   "execution_count": 36,
   "id": "2fe3d233-ae45-4d8d-8dcc-ad9aaac5b5ec",
   "metadata": {},
   "outputs": [
    {
     "name": "stdout",
     "output_type": "stream",
     "text": [
      "142\n"
     ]
    }
   ],
   "source": [
    "solution(test_data)"
   ]
  },
  {
   "cell_type": "code",
   "execution_count": 37,
   "id": "accaa675-a52f-4229-b412-cd8f957f96e9",
   "metadata": {},
   "outputs": [
    {
     "name": "stdout",
     "output_type": "stream",
     "text": [
      "53080\n"
     ]
    }
   ],
   "source": [
    "solution(data)"
   ]
  },
  {
   "cell_type": "code",
   "execution_count": 183,
   "id": "e13879fe-882c-4460-a587-86f7c9d32c4b",
   "metadata": {},
   "outputs": [
    {
     "data": {
      "text/plain": [
       "['eight9fhstbssrplmdlncmmqqnklb39ninejz',\n",
       " 'three656',\n",
       " 'ppjvndvknbtpfsncplmhhrlh5',\n",
       " '7fjqhrhsevenlbtwoninevnmct2',\n",
       " 'qjnbpfrztwo1']"
      ]
     },
     "execution_count": 183,
     "metadata": {},
     "output_type": "execute_result"
    }
   ],
   "source": [
    "data[:5]"
   ]
  },
  {
   "cell_type": "code",
   "execution_count": 185,
   "id": "8924a338-3536-4114-ab96-f2411089f41b",
   "metadata": {},
   "outputs": [
    {
     "data": {
      "text/plain": [
       "0"
      ]
     },
     "execution_count": 185,
     "metadata": {},
     "output_type": "execute_result"
    }
   ],
   "source": [
    "# \"eight\" in \"eight9fhstbssrplmdlncmmqqnklb39ninejz\"\n",
    "\"nine\" in \"eight9fhstbssrplmdlncmmqqnklb39ninejz\"\n",
    "\n",
    "import re \n",
    "match = re.search(\"(eight)\", \"eight9fhstbssrplmdlncmmqqnklb39ninejz\")\n",
    "match.start(1)"
   ]
  },
  {
   "cell_type": "code",
   "execution_count": 186,
   "id": "c50fcf71-b224-44d1-a477-26ef054e1e02",
   "metadata": {},
   "outputs": [
    {
     "data": {
      "text/plain": [
       "321"
      ]
     },
     "execution_count": 186,
     "metadata": {},
     "output_type": "execute_result"
    }
   ],
   "source": [
    "d = {320: 1, 321: 0, 322: 3}\n",
    "min(d, key=d.get)"
   ]
  },
  {
   "cell_type": "code",
   "execution_count": 272,
   "id": "4ea78a08-523d-41e3-a46f-789921b68a91",
   "metadata": {},
   "outputs": [],
   "source": [
    "# Part 2\n",
    "nums = [\"one\", \"two\", \"three\", \"four\", \"five\", \"six\", \"seven\", \"eight\", \"nine\"]\n",
    "nums_reversed = [\"eno\", \"owt\", \"eerht\",  \"ruof\",\"evif\" ,\"xis\", \"neves\" ,\"thgie\", \"enin\"]\n",
    "def solution(data):\n",
    "    total = 0\n",
    "    for s in data:\n",
    "        # print(s)\n",
    "        first_num = 0\n",
    "        last_num = 0\n",
    "        index = 0\n",
    "        for i, val in enumerate(s):\n",
    "            # print(val)\n",
    "            try:\n",
    "                first_num = int(val)\n",
    "                num_found_at = i\n",
    "                break\n",
    "            except:\n",
    "                continue\n",
    "        # print('first_num', first_num, 'index', i)\n",
    "        for n in nums:\n",
    "            match = re.search(f\"({n})\", s[:i])\n",
    "            if match:\n",
    "                first_word = nums.index(n) + 1\n",
    "                first_word_found_at = match.start(1)\n",
    "                # print('first word found', nums.index(n) + 1, 'index', match.start(1))\n",
    "                if num_found_at > match.start(1):\n",
    "                    first_num = nums.index(n) + 1\n",
    "                    num_found_at = match.start(1)\n",
    "        \n",
    "        # backwards\n",
    "        for i, val in enumerate(s[::-1]):\n",
    "            index = i\n",
    "            try:\n",
    "                last_num = int(val)\n",
    "                last_num_found_at = i\n",
    "                break\n",
    "            except:\n",
    "                continue\n",
    "        reverse_words_found = {}        \n",
    "        for n in nums_reversed:\n",
    "            match = re.search(f\"({n})\", s[::-1][:i])\n",
    "            if match:\n",
    "                last_word = nums_reversed.index(n) + 1\n",
    "                last_word_found_at = match.start(1)\n",
    "                # print('last word found', nums_reversed.index(n) + 1, 'index', match.start(1))\n",
    "                if last_num_found_at > match.start(1):\n",
    "                    last_num = nums_reversed.index(n) + 1\n",
    "                    last_num_found_at = match.start(1)\n",
    "        total += first_num*10 + last_num\n",
    "        # print(first_num, last_num)\n",
    "        \n",
    "    print(total)\n",
    "\n",
    "# print(data[20:30])\n",
    "# solution(data[20:30])"
   ]
  },
  {
   "cell_type": "code",
   "execution_count": 273,
   "id": "4412b5f3-17cf-4119-af5c-78331a9b8cad",
   "metadata": {},
   "outputs": [
    {
     "name": "stdout",
     "output_type": "stream",
     "text": [
      "53268\n"
     ]
    }
   ],
   "source": [
    "solution(data)"
   ]
  }
 ],
 "metadata": {
  "kernelspec": {
   "display_name": "Python 3 (ipykernel)",
   "language": "python",
   "name": "python3"
  },
  "language_info": {
   "codemirror_mode": {
    "name": "ipython",
    "version": 3
   },
   "file_extension": ".py",
   "mimetype": "text/x-python",
   "name": "python",
   "nbconvert_exporter": "python",
   "pygments_lexer": "ipython3",
   "version": "3.11.2"
  }
 },
 "nbformat": 4,
 "nbformat_minor": 5
}
